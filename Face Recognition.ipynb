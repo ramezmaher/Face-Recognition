{
 "cells": [
  {
   "cell_type": "markdown",
   "metadata": {},
   "source": [
    "## Special Topics in Information Systems\n",
    "### Lab 2\n",
    "\n",
    "\n",
    "# Face Recognition\n",
    "\n",
    "\n",
    "#### by: Youssef Sherif ID: 72, and Ramez Maher ID: 27"
   ]
  },
  {
   "cell_type": "markdown",
   "metadata": {},
   "source": [
    "### Problem Statement:\n",
    "\n",
    "It is required to perform facial recognition -tell the subject's id given an image of him/her- on a database of 40 subjects. Each subject has 10 images in the database."
   ]
  },
  {
   "cell_type": "code",
   "execution_count": 25,
   "metadata": {},
   "outputs": [],
   "source": [
    "from skimage.io import imread, imshow\n",
    "from sklearn.model_selection import train_test_split\n",
    "import matplotlib.pyplot as plt\n",
    "import numpy as np\n",
    "import os"
   ]
  },
  {
   "cell_type": "markdown",
   "metadata": {},
   "source": [
    "#### Generating data matrix and labels vector"
   ]
  },
  {
   "cell_type": "code",
   "execution_count": 30,
   "metadata": {},
   "outputs": [
    {
     "name": "stdout",
     "output_type": "stream",
     "text": [
      "(400, 10304)\n",
      "400\n"
     ]
    }
   ],
   "source": [
    "DATAPATH = \"data\"\n",
    "\n",
    "features_vec = []\n",
    "labels = []\n",
    "for i in range(1, 41):\n",
    "    path = os.path.join(DATAPATH, \"s\"+str(i))\n",
    "    for img in os.listdir(path):\n",
    "        image = imread(os.path.join(path, img), as_gray=True)\n",
    "        features_vec.append(image.flatten())\n",
    "        labels.append(i)\n",
    "\n",
    "data_matrix = np.array(features_vec)"
   ]
  },
  {
   "cell_type": "markdown",
   "metadata": {},
   "source": [
    "#### Spliting dataset into train and test sets"
   ]
  },
  {
   "cell_type": "code",
   "execution_count": 34,
   "metadata": {},
   "outputs": [
    {
     "name": "stdout",
     "output_type": "stream",
     "text": [
      "(200, 10304)\n",
      "(280, 10304)\n"
     ]
    }
   ],
   "source": [
    "x1_train = []\n",
    "x1_test = []\n",
    "y1_train = []\n",
    "y1_test = []\n",
    "\n",
    "#Primary train and test sets split 50/50\n",
    "for i in range(0, 400):\n",
    "    if i%2 == 1:\n",
    "        x1_train.append(data_matrix[i])\n",
    "        y1_test.append(labels[i])\n",
    "    else:\n",
    "        x1_test.append(data_matrix[i])\n",
    "        y1_test.append(labels[i])\n",
    "x1_train = np.array(x1_train)\n",
    "x1_test = np.array(x1_test)\n",
    "\n",
    "#Different train and test sets splits 70/30\n",
    "x2_train, x2_test, y2_train, y2_test = train_test_split(data_matrix, labels, test_size=0.3)"
   ]
  },
  {
   "cell_type": "markdown",
   "metadata": {},
   "source": []
  },
  {
   "cell_type": "code",
   "execution_count": null,
   "metadata": {},
   "outputs": [],
   "source": []
  }
 ],
 "metadata": {
  "kernelspec": {
   "display_name": "Python 3",
   "language": "python",
   "name": "python3"
  },
  "language_info": {
   "codemirror_mode": {
    "name": "ipython",
    "version": 3
   },
   "file_extension": ".py",
   "mimetype": "text/x-python",
   "name": "python",
   "nbconvert_exporter": "python",
   "pygments_lexer": "ipython3",
   "version": "3.8.5"
  }
 },
 "nbformat": 4,
 "nbformat_minor": 4
}
